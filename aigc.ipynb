{
 "cells": [
  {
   "cell_type": "markdown",
   "source": [
    "Init"
   ],
   "metadata": {
    "collapsed": false
   },
   "id": "a3032f5c8334051a"
  },
  {
   "cell_type": "code",
   "outputs": [
    {
     "name": "stdout",
     "output_type": "stream",
     "text": [
      "cuda\n"
     ]
    }
   ],
   "source": [
    "import torch\n",
    "import numpy as np\n",
    "import matplotlib.pyplot as plt\n",
    "from torch.utils.data import DataLoader\n",
    "from torchvision import datasets, transforms\n",
    "\n",
    "transforms = transforms.Compose([transforms.ToTensor()])\n",
    "mnist_dataset = datasets.MNIST(root='./data',train=True,download=True,transform=transforms)\n",
    "device = torch.device(\"cuda\" if torch.cuda.is_available() else \"\")\n",
    "print(device)"
   ],
   "metadata": {
    "collapsed": false,
    "ExecuteTime": {
     "end_time": "2024-03-16T12:40:40.863086Z",
     "start_time": "2024-03-16T12:40:40.839081Z"
    }
   },
   "id": "be87d64a1c1ec9a4",
   "execution_count": 97
  },
  {
   "cell_type": "markdown",
   "source": [],
   "metadata": {
    "collapsed": false
   },
   "id": "118edbfff9494b94"
  },
  {
   "cell_type": "markdown",
   "source": [
    "Load Data"
   ],
   "metadata": {
    "collapsed": false
   },
   "id": "6b6d40980207c604"
  },
  {
   "cell_type": "code",
   "outputs": [
    {
     "name": "stdout",
     "output_type": "stream",
     "text": [
      "784\n"
     ]
    }
   ],
   "source": [
    "batch_size = 128\n",
    "train_loader = DataLoader(dataset=mnist_dataset,batch_size=batch_size,shuffle=True,drop_last=True)\n",
    "train_data_iter = iter(train_loader)\n",
    "images = train_data_iter.__next__()\n",
    "num_sampler = 25\n",
    "sample_images = [images[0][i,0] for i in range(num_sampler)]\n",
    "sample_image = sample_images[0]\n",
    "image_size = sample_image.size()\n",
    "x_dim = image_size[0] * image_size[1]\n",
    "print(x_dim)"
   ],
   "metadata": {
    "collapsed": false,
    "ExecuteTime": {
     "end_time": "2024-03-16T12:40:40.879090Z",
     "start_time": "2024-03-16T12:40:40.864086Z"
    }
   },
   "id": "ad7ecb91d4ac1238",
   "execution_count": 98
  },
  {
   "cell_type": "markdown",
   "source": [
    "VAE Implementation"
   ],
   "metadata": {
    "collapsed": false
   },
   "id": "768be480f3d2537f"
  },
  {
   "cell_type": "code",
   "outputs": [
    {
     "name": "stdout",
     "output_type": "stream",
     "text": [
      "Epoch:  0\n",
      "tensor(14529048., device='cuda:0', grad_fn=<AddBackward0>)\n",
      "Epoch:  1\n",
      "tensor(11103842., device='cuda:0', grad_fn=<AddBackward0>)\n",
      "Epoch:  2\n",
      "tensor(10363290., device='cuda:0', grad_fn=<AddBackward0>)\n",
      "Epoch:  3\n",
      "tensor(10040646., device='cuda:0', grad_fn=<AddBackward0>)\n",
      "Epoch:  4\n",
      "tensor(9836428., device='cuda:0', grad_fn=<AddBackward0>)\n",
      "Epoch:  5\n",
      "tensor(9710161., device='cuda:0', grad_fn=<AddBackward0>)\n",
      "Epoch:  6\n",
      "tensor(9622721., device='cuda:0', grad_fn=<AddBackward0>)\n",
      "Epoch:  7\n",
      "tensor(9554593., device='cuda:0', grad_fn=<AddBackward0>)\n",
      "Epoch:  8\n",
      "tensor(9496770., device='cuda:0', grad_fn=<AddBackward0>)\n",
      "Epoch:  9\n",
      "tensor(9446331., device='cuda:0', grad_fn=<AddBackward0>)\n",
      "Epoch:  10\n",
      "tensor(9395220., device='cuda:0', grad_fn=<AddBackward0>)\n",
      "Epoch:  11\n",
      "tensor(9345761., device='cuda:0', grad_fn=<AddBackward0>)\n",
      "Epoch:  12\n",
      "tensor(9294251., device='cuda:0', grad_fn=<AddBackward0>)\n",
      "Epoch:  13\n",
      "tensor(9242264., device='cuda:0', grad_fn=<AddBackward0>)\n",
      "Epoch:  14\n",
      "tensor(9191204., device='cuda:0', grad_fn=<AddBackward0>)\n",
      "Epoch:  15\n",
      "tensor(9143692., device='cuda:0', grad_fn=<AddBackward0>)\n",
      "Epoch:  16\n",
      "tensor(9098270., device='cuda:0', grad_fn=<AddBackward0>)\n",
      "Epoch:  17\n",
      "tensor(9055798., device='cuda:0', grad_fn=<AddBackward0>)\n",
      "Epoch:  18\n",
      "tensor(9016258., device='cuda:0', grad_fn=<AddBackward0>)\n",
      "Epoch:  19\n",
      "tensor(8978875., device='cuda:0', grad_fn=<AddBackward0>)\n",
      "Epoch:  20\n",
      "tensor(8944341., device='cuda:0', grad_fn=<AddBackward0>)\n",
      "Epoch:  21\n",
      "tensor(8910139., device='cuda:0', grad_fn=<AddBackward0>)\n",
      "Epoch:  22\n",
      "tensor(8881025., device='cuda:0', grad_fn=<AddBackward0>)\n",
      "Epoch:  23\n",
      "tensor(8851505., device='cuda:0', grad_fn=<AddBackward0>)\n",
      "Epoch:  24\n",
      "tensor(8822954., device='cuda:0', grad_fn=<AddBackward0>)\n",
      "Epoch:  25\n",
      "tensor(8797715., device='cuda:0', grad_fn=<AddBackward0>)\n",
      "Epoch:  26\n",
      "tensor(8772220., device='cuda:0', grad_fn=<AddBackward0>)\n",
      "Epoch:  27\n",
      "tensor(8747091., device='cuda:0', grad_fn=<AddBackward0>)\n",
      "Epoch:  28\n",
      "tensor(8724692., device='cuda:0', grad_fn=<AddBackward0>)\n",
      "Epoch:  29\n",
      "tensor(8703495., device='cuda:0', grad_fn=<AddBackward0>)\n",
      "Epoch:  30\n",
      "tensor(8685216., device='cuda:0', grad_fn=<AddBackward0>)\n",
      "Epoch:  31\n",
      "tensor(8665250., device='cuda:0', grad_fn=<AddBackward0>)\n",
      "Epoch:  32\n",
      "tensor(8645741., device='cuda:0', grad_fn=<AddBackward0>)\n",
      "Epoch:  33\n",
      "tensor(8630814., device='cuda:0', grad_fn=<AddBackward0>)\n",
      "Epoch:  34\n",
      "tensor(8612215., device='cuda:0', grad_fn=<AddBackward0>)\n",
      "Epoch:  35\n",
      "tensor(8596135., device='cuda:0', grad_fn=<AddBackward0>)\n",
      "Epoch:  36\n",
      "tensor(8580722., device='cuda:0', grad_fn=<AddBackward0>)\n",
      "Epoch:  37\n",
      "tensor(8566588., device='cuda:0', grad_fn=<AddBackward0>)\n",
      "Epoch:  38\n",
      "tensor(8552331., device='cuda:0', grad_fn=<AddBackward0>)\n",
      "Epoch:  39\n",
      "tensor(8536345., device='cuda:0', grad_fn=<AddBackward0>)\n",
      "Epoch:  40\n",
      "tensor(8523926., device='cuda:0', grad_fn=<AddBackward0>)\n",
      "Epoch:  41\n",
      "tensor(8511116., device='cuda:0', grad_fn=<AddBackward0>)\n",
      "Epoch:  42\n",
      "tensor(8496714., device='cuda:0', grad_fn=<AddBackward0>)\n",
      "Epoch:  43\n",
      "tensor(8487359., device='cuda:0', grad_fn=<AddBackward0>)\n",
      "Epoch:  44\n",
      "tensor(8472051., device='cuda:0', grad_fn=<AddBackward0>)\n",
      "Epoch:  45\n",
      "tensor(8462620., device='cuda:0', grad_fn=<AddBackward0>)\n",
      "Epoch:  46\n",
      "tensor(8450519., device='cuda:0', grad_fn=<AddBackward0>)\n",
      "Epoch:  47\n",
      "tensor(8439261., device='cuda:0', grad_fn=<AddBackward0>)\n",
      "Epoch:  48\n",
      "tensor(8428573., device='cuda:0', grad_fn=<AddBackward0>)\n",
      "Epoch:  49\n",
      "tensor(8418115., device='cuda:0', grad_fn=<AddBackward0>)\n",
      "Epoch:  50\n",
      "tensor(8411216., device='cuda:0', grad_fn=<AddBackward0>)\n",
      "Epoch:  51\n",
      "tensor(8399612., device='cuda:0', grad_fn=<AddBackward0>)\n",
      "Epoch:  52\n",
      "tensor(8390301., device='cuda:0', grad_fn=<AddBackward0>)\n",
      "Epoch:  53\n",
      "tensor(8380451.5000, device='cuda:0', grad_fn=<AddBackward0>)\n",
      "Epoch:  54\n",
      "tensor(8373686.5000, device='cuda:0', grad_fn=<AddBackward0>)\n",
      "Epoch:  55\n",
      "tensor(8363546., device='cuda:0', grad_fn=<AddBackward0>)\n",
      "Epoch:  56\n",
      "tensor(8355714., device='cuda:0', grad_fn=<AddBackward0>)\n",
      "Epoch:  57\n",
      "tensor(8348850., device='cuda:0', grad_fn=<AddBackward0>)\n",
      "Epoch:  58\n",
      "tensor(8339010.5000, device='cuda:0', grad_fn=<AddBackward0>)\n",
      "Epoch:  59\n",
      "tensor(8332907.5000, device='cuda:0', grad_fn=<AddBackward0>)\n",
      "Epoch:  60\n",
      "tensor(8322890.5000, device='cuda:0', grad_fn=<AddBackward0>)\n",
      "Epoch:  61\n",
      "tensor(8314670.5000, device='cuda:0', grad_fn=<AddBackward0>)\n",
      "Epoch:  62\n",
      "tensor(8306650., device='cuda:0', grad_fn=<AddBackward0>)\n",
      "Epoch:  63\n",
      "tensor(8300709., device='cuda:0', grad_fn=<AddBackward0>)\n",
      "Epoch:  64\n",
      "tensor(8294244., device='cuda:0', grad_fn=<AddBackward0>)\n",
      "Epoch:  65\n",
      "tensor(8288957., device='cuda:0', grad_fn=<AddBackward0>)\n",
      "Epoch:  66\n",
      "tensor(8280580., device='cuda:0', grad_fn=<AddBackward0>)\n",
      "Epoch:  67\n",
      "tensor(8274976., device='cuda:0', grad_fn=<AddBackward0>)\n",
      "Epoch:  68\n",
      "tensor(8270129., device='cuda:0', grad_fn=<AddBackward0>)\n",
      "Epoch:  69\n",
      "tensor(8259266.5000, device='cuda:0', grad_fn=<AddBackward0>)\n",
      "Epoch:  70\n",
      "tensor(8254893.5000, device='cuda:0', grad_fn=<AddBackward0>)\n",
      "Epoch:  71\n",
      "tensor(8246509.5000, device='cuda:0', grad_fn=<AddBackward0>)\n",
      "Epoch:  72\n",
      "tensor(8241022.5000, device='cuda:0', grad_fn=<AddBackward0>)\n",
      "Epoch:  73\n",
      "tensor(8236064., device='cuda:0', grad_fn=<AddBackward0>)\n",
      "Epoch:  74\n",
      "tensor(8231990.5000, device='cuda:0', grad_fn=<AddBackward0>)\n",
      "Epoch:  75\n",
      "tensor(8224901., device='cuda:0', grad_fn=<AddBackward0>)\n",
      "Epoch:  76\n",
      "tensor(8218317., device='cuda:0', grad_fn=<AddBackward0>)\n",
      "Epoch:  77\n",
      "tensor(8216466.5000, device='cuda:0', grad_fn=<AddBackward0>)\n",
      "Epoch:  78\n",
      "tensor(8208613.5000, device='cuda:0', grad_fn=<AddBackward0>)\n",
      "Epoch:  79\n",
      "tensor(8201885.5000, device='cuda:0', grad_fn=<AddBackward0>)\n",
      "Epoch:  80\n",
      "tensor(8197046.5000, device='cuda:0', grad_fn=<AddBackward0>)\n",
      "Epoch:  81\n",
      "tensor(8191766., device='cuda:0', grad_fn=<AddBackward0>)\n",
      "Epoch:  82\n",
      "tensor(8187793.5000, device='cuda:0', grad_fn=<AddBackward0>)\n",
      "Epoch:  83\n",
      "tensor(8182509., device='cuda:0', grad_fn=<AddBackward0>)\n",
      "Epoch:  84\n",
      "tensor(8175875., device='cuda:0', grad_fn=<AddBackward0>)\n",
      "Epoch:  85\n",
      "tensor(8170982.5000, device='cuda:0', grad_fn=<AddBackward0>)\n",
      "Epoch:  86\n",
      "tensor(8167488., device='cuda:0', grad_fn=<AddBackward0>)\n",
      "Epoch:  87\n",
      "tensor(8163411., device='cuda:0', grad_fn=<AddBackward0>)\n",
      "Epoch:  88\n",
      "tensor(8159030.5000, device='cuda:0', grad_fn=<AddBackward0>)\n",
      "Epoch:  89\n",
      "tensor(8153905., device='cuda:0', grad_fn=<AddBackward0>)\n",
      "Epoch:  90\n",
      "tensor(8149217., device='cuda:0', grad_fn=<AddBackward0>)\n",
      "Epoch:  91\n",
      "tensor(8142485.5000, device='cuda:0', grad_fn=<AddBackward0>)\n",
      "Epoch:  92\n",
      "tensor(8139535.5000, device='cuda:0', grad_fn=<AddBackward0>)\n",
      "Epoch:  93\n",
      "tensor(8136239.5000, device='cuda:0', grad_fn=<AddBackward0>)\n",
      "Epoch:  94\n",
      "tensor(8130936.5000, device='cuda:0', grad_fn=<AddBackward0>)\n",
      "Epoch:  95\n",
      "tensor(8126878.5000, device='cuda:0', grad_fn=<AddBackward0>)\n",
      "Epoch:  96\n",
      "tensor(8122851.5000, device='cuda:0', grad_fn=<AddBackward0>)\n",
      "Epoch:  97\n",
      "tensor(8117616., device='cuda:0', grad_fn=<AddBackward0>)\n",
      "Epoch:  98\n",
      "tensor(8114037., device='cuda:0', grad_fn=<AddBackward0>)\n",
      "Epoch:  99\n",
      "tensor(8109520., device='cuda:0', grad_fn=<AddBackward0>)\n"
     ]
    }
   ],
   "source": [
    "import torch.nn as nn\n",
    "from torch.optim import Adam\n",
    "from torch.utils.tensorboard import SummaryWriter\n",
    "import time \n",
    "currentTime = time.strftime(\"%Y-%m-%d-%H_%M_%S\", time.localtime(time.time()))\n",
    "writer = SummaryWriter('./log/{currentTime}'.format(currentTime = currentTime))\n",
    "\n",
    "class VAE(nn.Module):\n",
    "    \n",
    "    def __init__(self, input_dim:int = 28 * 28, hidden_dim:int = 400, latent_dim:int = 200, device:str = 'cuda'):\n",
    "        super(VAE, self).__init__()\n",
    "        \n",
    "        # encoder产生z\n",
    "        self.encoder = nn.Sequential(\n",
    "            nn.Linear(input_dim, hidden_dim),\n",
    "            nn.LeakyReLU(0.2),\n",
    "            nn.Linear(hidden_dim,latent_dim),\n",
    "            nn.LeakyReLU(0.2),\n",
    "        )\n",
    "        # 然后产生p(z|x)的均值和方差\n",
    "        # 图像是二维灰度图，所以方差和均值dim = 2\n",
    "        self.mean_layer = nn.Linear(latent_dim, 2)\n",
    "        self.log_var_layer = nn.Linear(latent_dim, 2)\n",
    "        \n",
    "        # 均值和方差与z的维度一致\n",
    "        # self.mean_layer = nn.Linear(latent_dim, latent_dim)\n",
    "        # self.log_var_layer = nn.Linear(latent_dim, latent_dim)\n",
    "        \n",
    "        # decoder根据p(x|z)产生新的采样\n",
    "        self.decoder = nn.Sequential(\n",
    "            nn.Linear(2, latent_dim),\n",
    "            nn.LeakyReLU(0.2),\n",
    "            nn.Linear(latent_dim, hidden_dim),\n",
    "            nn.LeakyReLU(0.2),\n",
    "            nn.Linear(hidden_dim, input_dim),\n",
    "            nn.Sigmoid()\n",
    "        )\n",
    "        \n",
    "    def encode(self, x):\n",
    "        x = self.encoder(x)\n",
    "        mean, log_var = self.mean_layer(x), self.log_var_layer(x)\n",
    "        return mean, log_var\n",
    "    \n",
    "    def decode(self,x):\n",
    "        return self.decoder(x)\n",
    "    \n",
    "    def reparameteriztion(self, mean, var):\n",
    "        epsilon = torch.randn_like(var).to(device)\n",
    "        z = mean + var * epsilon\n",
    "        return z\n",
    "    \n",
    "    def forward(self, x):\n",
    "        mean, log_var = self.encode(x)\n",
    "        z = self.reparameteriztion(mean, log_var)\n",
    "        x_hat = self.decode(z)\n",
    "        return x_hat,mean,log_var\n",
    "\n",
    "def loss_function(x, x_hat, mean, log_var):\n",
    "    # 因为这个数据集的图形都是0/1，所以用交叉熵做Loss了\n",
    "    reproductive_loss = nn.functional.binary_cross_entropy(x_hat, x, reduction='sum')\n",
    "    # reproductive_loss = nn.functional.binary_cross_entropy(x_hat, x, reduction='mean')\n",
    "    # reproductive_loss = nn.MSELoss(x_hat,x,reduction='sum')\n",
    "    kld = -0.5 * torch.sum(1 + log_var - mean.pow(2) - log_var.exp())\n",
    "    return reproductive_loss + kld\n",
    "\n",
    "def train(model,optimizer,epochs,device):\n",
    "    \n",
    "    model.train()\n",
    "    for epoch in range(epochs):\n",
    "        print('Epoch: ',epoch)\n",
    "        epoch_loss = 0\n",
    "        for batch_idx, (data, target) in enumerate(train_loader):\n",
    "            data = data.view(batch_size, x_dim).to(device)\n",
    "            x_hat,mean,log_var = model(data)\n",
    "            loss = loss_function(data, x_hat, mean, log_var)\n",
    "            epoch_loss += loss\n",
    "            optimizer.zero_grad()\n",
    "            loss.backward()\n",
    "            optimizer.step()\n",
    "        \n",
    "        writer.add_scalar('loss/train', epoch_loss, epoch)\n",
    "        print(epoch_loss)\n",
    "\n",
    "    writer.close()\n",
    "    \n",
    "# train\n",
    "model = VAE().to(device)\n",
    "optimizer = Adam(model.parameters(), lr = 1e-4)\n",
    "train(model, optimizer, epochs=100, device=device)"
   ],
   "metadata": {
    "collapsed": false,
    "ExecuteTime": {
     "end_time": "2024-03-16T12:45:23.173869Z",
     "start_time": "2024-03-16T12:40:40.880090Z"
    }
   },
   "id": "abe0faf5c76c2423",
   "execution_count": 99
  },
  {
   "cell_type": "markdown",
   "source": [
    "checkpoint"
   ],
   "metadata": {
    "collapsed": false
   },
   "id": "a52a953493f92068"
  },
  {
   "cell_type": "code",
   "outputs": [],
   "source": [
    "checkpoints_path = './checkpoints/'\n",
    "checkpoint_name = f'{checkpoints_path}/{currentTime}.pt'\n",
    "torch.save(model.state_dict(), checkpoint_name)"
   ],
   "metadata": {
    "collapsed": false,
    "ExecuteTime": {
     "end_time": "2024-03-16T12:45:23.189873Z",
     "start_time": "2024-03-16T12:45:23.174869Z"
    }
   },
   "id": "eb088e576f3af830",
   "execution_count": 100
  },
  {
   "cell_type": "markdown",
   "source": [
    "generate"
   ],
   "metadata": {
    "collapsed": false
   },
   "id": "18aa6b896b6aede"
  },
  {
   "cell_type": "code",
   "outputs": [
    {
     "data": {
      "text/plain": "<Figure size 640x480 with 1 Axes>",
      "image/png": "[encoded data removed]"
     },
     "metadata": {},
     "output_type": "display_data"
    }
   ],
   "source": [
    "def generate_digit(mean, var):\n",
    "    z_sample = torch.tensor([[mean, var]],dtype=torch.float).to(device)\n",
    "    x_decoded = model.decode(z_sample)\n",
    "    digit = x_decoded.detach().cpu().reshape(28, 28)\n",
    "    plt.imshow(digit, cmap='grey')\n",
    "    plt.axis('off')\n",
    "    plt.show()\n",
    "    \n",
    "generate_digit(0.6,0.8)"
   ],
   "metadata": {
    "collapsed": false,
    "ExecuteTime": {
     "end_time": "2024-03-16T12:46:14.378379Z",
     "start_time": "2024-03-16T12:46:14.344371Z"
    }
   },
   "id": "1fb0375056ff92c",
   "execution_count": 116
  }
 ],
 "metadata": {
  "kernelspec": {
   "display_name": "Python 3",
   "language": "python",
   "name": "python3"
  },
  "language_info": {
   "codemirror_mode": {
    "name": "ipython",
    "version": 2
   },
   "file_extension": ".py",
   "mimetype": "text/x-python",
   "name": "python",
   "nbconvert_exporter": "python",
   "pygments_lexer": "ipython2",
   "version": "2.7.6"
  }
 },
 "nbformat": 4,
 "nbformat_minor": 5
}
