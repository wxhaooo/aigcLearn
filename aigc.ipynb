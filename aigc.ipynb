{
 "cells": [
  {
   "cell_type": "markdown",
   "source": [
    "Init"
   ],
   "metadata": {
    "collapsed": false
   },
   "id": "a3032f5c8334051a"
  },
  {
   "cell_type": "code",
   "outputs": [
    {
     "name": "stdout",
     "output_type": "stream",
     "text": [
      "cuda\n"
     ]
    }
   ],
   "source": [
    "import torch\n",
    "import numpy as np\n",
    "import matplotlib.pyplot as plt\n",
    "from torch.utils.data import DataLoader\n",
    "from torchvision import datasets, transforms\n",
    "\n",
    "transforms = transforms.Compose([transforms.ToTensor()])\n",
    "mnist_dataset = datasets.MNIST(root='./data',train=True,download=True,transform=transforms)\n",
    "device = torch.device(\"cuda\" if torch.cuda.is_available() else \"\")\n",
    "print(device)"
   ],
   "metadata": {
    "collapsed": false,
    "ExecuteTime": {
     "end_time": "2024-03-16T04:07:27.083158Z",
     "start_time": "2024-03-16T04:07:27.052151Z"
    }
   },
   "id": "be87d64a1c1ec9a4",
   "execution_count": 73
  },
  {
   "cell_type": "markdown",
   "source": [],
   "metadata": {
    "collapsed": false
   },
   "id": "118edbfff9494b94"
  },
  {
   "cell_type": "markdown",
   "source": [
    "Load Data"
   ],
   "metadata": {
    "collapsed": false
   },
   "id": "6b6d40980207c604"
  },
  {
   "cell_type": "code",
   "outputs": [
    {
     "name": "stdout",
     "output_type": "stream",
     "text": [
      "784\n"
     ]
    }
   ],
   "source": [
    "batch_size = 100\n",
    "train_loader = DataLoader(dataset=mnist_dataset,batch_size=batch_size,shuffle=True)\n",
    "train_data_iter = iter(train_loader)\n",
    "images = train_data_iter.__next__()\n",
    "num_sampler = 25\n",
    "sample_images = [images[0][i,0] for i in range(num_sampler)]\n",
    "sample_image = sample_images[0]\n",
    "image_size = sample_image.size()\n",
    "x_dim = image_size[0] * image_size[1]\n",
    "print(x_dim)"
   ],
   "metadata": {
    "collapsed": false,
    "ExecuteTime": {
     "end_time": "2024-03-16T03:10:57.730202Z",
     "start_time": "2024-03-16T03:10:57.718204Z"
    }
   },
   "id": "ad7ecb91d4ac1238",
   "execution_count": 38
  },
  {
   "cell_type": "markdown",
   "source": [
    "VAE Implementation"
   ],
   "metadata": {
    "collapsed": false
   },
   "id": "768be480f3d2537f"
  },
  {
   "cell_type": "code",
   "outputs": [
    {
     "name": "stdout",
     "output_type": "stream",
     "text": [
      "Epoch:  0\n",
      "tensor(10537130., device='cuda:0', grad_fn=<AddBackward0>)\n",
      "Epoch:  1\n",
      "tensor(9421248., device='cuda:0', grad_fn=<AddBackward0>)\n",
      "Epoch:  2\n",
      "tensor(9146370., device='cuda:0', grad_fn=<AddBackward0>)\n",
      "Epoch:  3\n",
      "tensor(8978363., device='cuda:0', grad_fn=<AddBackward0>)\n",
      "Epoch:  4\n",
      "tensor(8848832., device='cuda:0', grad_fn=<AddBackward0>)\n",
      "Epoch:  5\n",
      "tensor(8750760., device='cuda:0', grad_fn=<AddBackward0>)\n",
      "Epoch:  6\n",
      "tensor(8674240., device='cuda:0', grad_fn=<AddBackward0>)\n",
      "Epoch:  7\n",
      "tensor(8602463., device='cuda:0', grad_fn=<AddBackward0>)\n",
      "Epoch:  8\n",
      "tensor(8552086., device='cuda:0', grad_fn=<AddBackward0>)\n",
      "Epoch:  9\n",
      "tensor(8501580., device='cuda:0', grad_fn=<AddBackward0>)\n",
      "Epoch:  10\n",
      "tensor(8464952., device='cuda:0', grad_fn=<AddBackward0>)\n",
      "Epoch:  11\n",
      "tensor(8425818., device='cuda:0', grad_fn=<AddBackward0>)\n",
      "Epoch:  12\n",
      "tensor(8395817., device='cuda:0', grad_fn=<AddBackward0>)\n",
      "Epoch:  13\n",
      "tensor(8361303.5000, device='cuda:0', grad_fn=<AddBackward0>)\n",
      "Epoch:  14\n",
      "tensor(8334541.5000, device='cuda:0', grad_fn=<AddBackward0>)\n",
      "Epoch:  15\n",
      "tensor(8316033.5000, device='cuda:0', grad_fn=<AddBackward0>)\n",
      "Epoch:  16\n",
      "tensor(8284056., device='cuda:0', grad_fn=<AddBackward0>)\n",
      "Epoch:  17\n",
      "tensor(8267393.5000, device='cuda:0', grad_fn=<AddBackward0>)\n",
      "Epoch:  18\n",
      "tensor(8247011.5000, device='cuda:0', grad_fn=<AddBackward0>)\n",
      "Epoch:  19\n",
      "tensor(8234745., device='cuda:0', grad_fn=<AddBackward0>)\n",
      "Epoch:  20\n",
      "tensor(8206007.5000, device='cuda:0', grad_fn=<AddBackward0>)\n",
      "Epoch:  21\n",
      "tensor(8199371.5000, device='cuda:0', grad_fn=<AddBackward0>)\n",
      "Epoch:  22\n",
      "tensor(8183538., device='cuda:0', grad_fn=<AddBackward0>)\n",
      "Epoch:  23\n",
      "tensor(8169453.5000, device='cuda:0', grad_fn=<AddBackward0>)\n",
      "Epoch:  24\n",
      "tensor(8162100., device='cuda:0', grad_fn=<AddBackward0>)\n",
      "Epoch:  25\n",
      "tensor(8136061., device='cuda:0', grad_fn=<AddBackward0>)\n",
      "Epoch:  26\n",
      "tensor(8130725., device='cuda:0', grad_fn=<AddBackward0>)\n",
      "Epoch:  27\n",
      "tensor(8117468.5000, device='cuda:0', grad_fn=<AddBackward0>)\n",
      "Epoch:  28\n",
      "tensor(8117243., device='cuda:0', grad_fn=<AddBackward0>)\n",
      "Epoch:  29\n",
      "tensor(8094336., device='cuda:0', grad_fn=<AddBackward0>)\n",
      "Epoch:  30\n",
      "tensor(8083790.5000, device='cuda:0', grad_fn=<AddBackward0>)\n",
      "Epoch:  31\n",
      "tensor(8075622.5000, device='cuda:0', grad_fn=<AddBackward0>)\n",
      "Epoch:  32\n",
      "tensor(8072772.5000, device='cuda:0', grad_fn=<AddBackward0>)\n",
      "Epoch:  33\n",
      "tensor(8057314.5000, device='cuda:0', grad_fn=<AddBackward0>)\n",
      "Epoch:  34\n",
      "tensor(8050519.5000, device='cuda:0', grad_fn=<AddBackward0>)\n",
      "Epoch:  35\n",
      "tensor(8050962., device='cuda:0', grad_fn=<AddBackward0>)\n",
      "Epoch:  36\n",
      "tensor(8035911.5000, device='cuda:0', grad_fn=<AddBackward0>)\n",
      "Epoch:  37\n",
      "tensor(8033477.5000, device='cuda:0', grad_fn=<AddBackward0>)\n",
      "Epoch:  38\n",
      "tensor(8029142.5000, device='cuda:0', grad_fn=<AddBackward0>)\n",
      "Epoch:  39\n",
      "tensor(8003409., device='cuda:0', grad_fn=<AddBackward0>)\n",
      "Epoch:  40\n",
      "tensor(7995834., device='cuda:0', grad_fn=<AddBackward0>)\n",
      "Epoch:  41\n",
      "tensor(7995949.5000, device='cuda:0', grad_fn=<AddBackward0>)\n",
      "Epoch:  42\n",
      "tensor(7997865.5000, device='cuda:0', grad_fn=<AddBackward0>)\n",
      "Epoch:  43\n",
      "tensor(7989954.5000, device='cuda:0', grad_fn=<AddBackward0>)\n",
      "Epoch:  44\n",
      "tensor(7987911.5000, device='cuda:0', grad_fn=<AddBackward0>)\n",
      "Epoch:  45\n",
      "tensor(7962744., device='cuda:0', grad_fn=<AddBackward0>)\n",
      "Epoch:  46\n",
      "tensor(7971483.5000, device='cuda:0', grad_fn=<AddBackward0>)\n",
      "Epoch:  47\n",
      "tensor(7956220., device='cuda:0', grad_fn=<AddBackward0>)\n",
      "Epoch:  48\n",
      "tensor(7964188., device='cuda:0', grad_fn=<AddBackward0>)\n",
      "Epoch:  49\n",
      "tensor(7954548.5000, device='cuda:0', grad_fn=<AddBackward0>)\n",
      "Epoch:  50\n",
      "tensor(7947733., device='cuda:0', grad_fn=<AddBackward0>)\n",
      "Epoch:  51\n",
      "tensor(7948531.5000, device='cuda:0', grad_fn=<AddBackward0>)\n",
      "Epoch:  52\n",
      "tensor(7939313., device='cuda:0', grad_fn=<AddBackward0>)\n",
      "Epoch:  53\n",
      "tensor(7933162.5000, device='cuda:0', grad_fn=<AddBackward0>)\n",
      "Epoch:  54\n",
      "tensor(7932992., device='cuda:0', grad_fn=<AddBackward0>)\n",
      "Epoch:  55\n",
      "tensor(7933264., device='cuda:0', grad_fn=<AddBackward0>)\n",
      "Epoch:  56\n",
      "tensor(7931144.5000, device='cuda:0', grad_fn=<AddBackward0>)\n",
      "Epoch:  57\n",
      "tensor(7916637.5000, device='cuda:0', grad_fn=<AddBackward0>)\n",
      "Epoch:  58\n",
      "tensor(7904281.5000, device='cuda:0', grad_fn=<AddBackward0>)\n",
      "Epoch:  59\n",
      "tensor(7905051.5000, device='cuda:0', grad_fn=<AddBackward0>)\n",
      "Epoch:  60\n",
      "tensor(7911766.5000, device='cuda:0', grad_fn=<AddBackward0>)\n",
      "Epoch:  61\n",
      "tensor(7904919., device='cuda:0', grad_fn=<AddBackward0>)\n",
      "Epoch:  62\n",
      "tensor(7885655.5000, device='cuda:0', grad_fn=<AddBackward0>)\n",
      "Epoch:  63\n",
      "tensor(7895172., device='cuda:0', grad_fn=<AddBackward0>)\n",
      "Epoch:  64\n",
      "tensor(7892389., device='cuda:0', grad_fn=<AddBackward0>)\n",
      "Epoch:  65\n",
      "tensor(7879393.5000, device='cuda:0', grad_fn=<AddBackward0>)\n",
      "Epoch:  66\n",
      "tensor(7879642., device='cuda:0', grad_fn=<AddBackward0>)\n",
      "Epoch:  67\n",
      "tensor(7872218.5000, device='cuda:0', grad_fn=<AddBackward0>)\n",
      "Epoch:  68\n",
      "tensor(7881648., device='cuda:0', grad_fn=<AddBackward0>)\n",
      "Epoch:  69\n",
      "tensor(7877663., device='cuda:0', grad_fn=<AddBackward0>)\n",
      "Epoch:  70\n",
      "tensor(7872097.5000, device='cuda:0', grad_fn=<AddBackward0>)\n",
      "Epoch:  71\n",
      "tensor(7861630., device='cuda:0', grad_fn=<AddBackward0>)\n",
      "Epoch:  72\n",
      "tensor(7863939., device='cuda:0', grad_fn=<AddBackward0>)\n",
      "Epoch:  73\n",
      "tensor(7876454.5000, device='cuda:0', grad_fn=<AddBackward0>)\n",
      "Epoch:  74\n",
      "tensor(7859868.5000, device='cuda:0', grad_fn=<AddBackward0>)\n",
      "Epoch:  75\n",
      "tensor(7848510., device='cuda:0', grad_fn=<AddBackward0>)\n",
      "Epoch:  76\n",
      "tensor(7851751., device='cuda:0', grad_fn=<AddBackward0>)\n",
      "Epoch:  77\n",
      "tensor(7842980.5000, device='cuda:0', grad_fn=<AddBackward0>)\n",
      "Epoch:  78\n",
      "tensor(7848137., device='cuda:0', grad_fn=<AddBackward0>)\n",
      "Epoch:  79\n",
      "tensor(7840270., device='cuda:0', grad_fn=<AddBackward0>)\n",
      "Epoch:  80\n",
      "tensor(7854016.5000, device='cuda:0', grad_fn=<AddBackward0>)\n",
      "Epoch:  81\n",
      "tensor(7839832.5000, device='cuda:0', grad_fn=<AddBackward0>)\n",
      "Epoch:  82\n",
      "tensor(7826562., device='cuda:0', grad_fn=<AddBackward0>)\n",
      "Epoch:  83\n",
      "tensor(7830593.5000, device='cuda:0', grad_fn=<AddBackward0>)\n",
      "Epoch:  84\n",
      "tensor(7837175., device='cuda:0', grad_fn=<AddBackward0>)\n",
      "Epoch:  85\n",
      "tensor(7826384.5000, device='cuda:0', grad_fn=<AddBackward0>)\n",
      "Epoch:  86\n",
      "tensor(7829130., device='cuda:0', grad_fn=<AddBackward0>)\n",
      "Epoch:  87\n",
      "tensor(7830323., device='cuda:0', grad_fn=<AddBackward0>)\n",
      "Epoch:  88\n",
      "tensor(7818333.5000, device='cuda:0', grad_fn=<AddBackward0>)\n",
      "Epoch:  89\n",
      "tensor(7824607.5000, device='cuda:0', grad_fn=<AddBackward0>)\n",
      "Epoch:  90\n",
      "tensor(7806965., device='cuda:0', grad_fn=<AddBackward0>)\n",
      "Epoch:  91\n",
      "tensor(7820877.5000, device='cuda:0', grad_fn=<AddBackward0>)\n",
      "Epoch:  92\n",
      "tensor(7810222., device='cuda:0', grad_fn=<AddBackward0>)\n",
      "Epoch:  93\n",
      "tensor(7808292., device='cuda:0', grad_fn=<AddBackward0>)\n",
      "Epoch:  94\n",
      "tensor(7811413., device='cuda:0', grad_fn=<AddBackward0>)\n",
      "Epoch:  95\n",
      "tensor(7803044.5000, device='cuda:0', grad_fn=<AddBackward0>)\n",
      "Epoch:  96\n",
      "tensor(7798673., device='cuda:0', grad_fn=<AddBackward0>)\n",
      "Epoch:  97\n",
      "tensor(7824808.5000, device='cuda:0', grad_fn=<AddBackward0>)\n",
      "Epoch:  98\n",
      "tensor(7793391.5000, device='cuda:0', grad_fn=<AddBackward0>)\n",
      "Epoch:  99\n",
      "tensor(7793410., device='cuda:0', grad_fn=<AddBackward0>)\n"
     ]
    }
   ],
   "source": [
    "import torch.nn as nn\n",
    "from torch.optim import Adam\n",
    "from torch.utils.tensorboard import SummaryWriter\n",
    "import time \n",
    "currentTime = time.strftime(\"%Y-%m-%d-%H_%M_%S\", time.localtime(time.time()))\n",
    "writer = SummaryWriter('./log/{currentTime}'.format(currentTime = currentTime))\n",
    "\n",
    "class VAE(nn.Module):\n",
    "    \n",
    "    def __init__(self, input_dim:int = 28 * 28, hidden_dim:int = 400, latent_dim:int = 200, device:str = 'cuda'):\n",
    "        super(VAE, self).__init__()\n",
    "        \n",
    "        # encoder产生z\n",
    "        self.encoder = nn.Sequential(\n",
    "            nn.Linear(input_dim, hidden_dim),\n",
    "            nn.LeakyReLU(0.2),\n",
    "            nn.Linear(hidden_dim,latent_dim),\n",
    "            nn.LeakyReLU(0.2),\n",
    "        )\n",
    "        # 然后产生p(z|x)的均值和方差\n",
    "        # 图像是二维灰度图，所以方差和均值dim = 2\n",
    "        self.mean_layer = nn.Linear(latent_dim, 2)\n",
    "        self.log_var_layer = nn.Linear(latent_dim, 2)\n",
    "        \n",
    "        # 均值和方差与z的维度一致\n",
    "        # self.mean_layer = nn.Linear(latent_dim, latent_dim)\n",
    "        # self.log_var_layer = nn.Linear(latent_dim, latent_dim)\n",
    "        \n",
    "        # decoder根据p(x|z)产生新的采样\n",
    "        self.decoder = nn.Sequential(\n",
    "            nn.Linear(2, latent_dim),\n",
    "            nn.LeakyReLU(0.2),\n",
    "            nn.Linear(latent_dim, hidden_dim),\n",
    "            nn.LeakyReLU(0.2),\n",
    "            nn.Linear(hidden_dim, input_dim),\n",
    "            nn.Sigmoid()\n",
    "        )\n",
    "        \n",
    "    def encode(self, x):\n",
    "        x = self.encoder(x)\n",
    "        mean, log_var = self.mean_layer(x), self.log_var_layer(x)\n",
    "        return mean, log_var\n",
    "    \n",
    "    def decode(self,x):\n",
    "        return self.decoder(x)\n",
    "    \n",
    "    def reparameteriztion(self, mean, var):\n",
    "        epsilon = torch.randn_like(var).to(device)\n",
    "        z = mean + var * epsilon\n",
    "        return z\n",
    "    \n",
    "    def forward(self, x):\n",
    "        mean, log_var = self.encode(x)\n",
    "        z = self.reparameteriztion(mean, log_var)\n",
    "        x_hat = self.decode(z)\n",
    "        return x_hat,mean,log_var\n",
    "\n",
    "def loss_function(x, x_hat, mean, log_var):\n",
    "    reproductive_loss = nn.functional.binary_cross_entropy(x_hat, x, reduction='sum')\n",
    "    # reproductive_loss = nn.MSELoss(x_hat,x,reduction='sum')\n",
    "    kld = -0.5 * torch.sum(1 + log_var - mean.pow(2) - log_var.exp())\n",
    "    return reproductive_loss + kld\n",
    "\n",
    "def train(model,optimizer,epochs,device):\n",
    "    \n",
    "    model.train()\n",
    "    for epoch in range(epochs):\n",
    "        print('Epoch: ',epoch)\n",
    "        epoch_loss = 0\n",
    "        for batch_idx, (data, target) in enumerate(train_loader):\n",
    "            data = data.view(batch_size, x_dim).to(device)\n",
    "            x_hat,mean,log_var = model(data)\n",
    "            loss = loss_function(data, x_hat, mean, log_var)\n",
    "            epoch_loss += loss\n",
    "            optimizer.zero_grad()\n",
    "            loss.backward()\n",
    "            optimizer.step()\n",
    "        \n",
    "        writer.add_scalar('loss/train', epoch_loss, epoch)\n",
    "        print(epoch_loss)\n",
    "\n",
    "    writer.close()\n",
    "    \n",
    "# train\n",
    "model = VAE().to(device)\n",
    "optimizer = Adam(model.parameters(), lr = 1e-3)\n",
    "train(model, optimizer, epochs=100, device=device)"
   ],
   "metadata": {
    "collapsed": false,
    "ExecuteTime": {
     "end_time": "2024-03-16T03:56:50.295815Z",
     "start_time": "2024-03-16T03:51:39.798805Z"
    }
   },
   "id": "abe0faf5c76c2423",
   "execution_count": 58
  },
  {
   "cell_type": "code",
   "outputs": [],
   "source": [
    "checkpoints_path = './checkpoints/'\n",
    "checkpoint_name = f'{checkpoints_path}/{currentTime}.pt'\n",
    "torch.save(model.state_dict(), checkpoint_name)"
   ],
   "metadata": {
    "collapsed": false,
    "ExecuteTime": {
     "end_time": "2024-03-16T04:17:24.613018Z",
     "start_time": "2024-03-16T04:17:24.595021Z"
    }
   },
   "id": "eb088e576f3af830",
   "execution_count": 77
  },
  {
   "cell_type": "code",
   "outputs": [
    {
     "data": {
      "text/plain": "<Figure size 640x480 with 1 Axes>",
      "image/png": "[encoded data removed]"
     },
     "metadata": {},
     "output_type": "display_data"
    }
   ],
   "source": [
    "def generate_digit(mean, var):\n",
    "    z_sample = torch.tensor([[mean, var]],dtype=torch.float).to(device)\n",
    "    x_decoded = model.decode(z_sample)\n",
    "    digit = x_decoded.detach().cpu().reshape(28, 28)\n",
    "    plt.imshow(digit, cmap='grey')\n",
    "    plt.axis('off')\n",
    "    plt.show()\n",
    "    \n",
    "generate_digit(0.0,1.0)"
   ],
   "metadata": {
    "collapsed": false,
    "ExecuteTime": {
     "end_time": "2024-03-16T04:04:21.766787Z",
     "start_time": "2024-03-16T04:04:21.740781Z"
    }
   },
   "id": "1fb0375056ff92c",
   "execution_count": 72
  }
 ],
 "metadata": {
  "kernelspec": {
   "display_name": "Python 3",
   "language": "python",
   "name": "python3"
  },
  "language_info": {
   "codemirror_mode": {
    "name": "ipython",
    "version": 2
   },
   "file_extension": ".py",
   "mimetype": "text/x-python",
   "name": "python",
   "nbconvert_exporter": "python",
   "pygments_lexer": "ipython2",
   "version": "2.7.6"
  }
 },
 "nbformat": 4,
 "nbformat_minor": 5
}
